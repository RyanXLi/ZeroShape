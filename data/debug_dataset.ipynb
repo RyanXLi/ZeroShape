{
 "cells": [
  {
   "cell_type": "code",
   "execution_count": 1,
   "metadata": {},
   "outputs": [],
   "source": [
    "import pandas as pd\n",
    "import numpy as np\n",
    "import json"
   ]
  },
  {
   "cell_type": "code",
   "execution_count": 2,
   "metadata": {},
   "outputs": [],
   "source": [
    "symm_gt = {}\n",
    "\n",
    "# load the two csv files\n",
    "with open(\"symm/candidate_planes.json\") as json_file:\n",
    "    candidate_planes = json.load(json_file)\n",
    "candidate_planes = np.array(candidate_planes)\n",
    "df_shapenet = pd.read_csv(\"symm/output_shapenet_pc_axis_v2.csv\", header=None)\n",
    "df_obja_lvis = pd.read_csv(\"symm/output_obja_lvis_pc_axis_v2.csv\", header=None)\n",
    "\n",
    "# Iterate over the dataframe\n",
    "threshold_shapenet = 0.02\n",
    "for index, row in df_shapenet.iterrows():\n",
    "    filename = row[0]  # Get the filename from the 0th column\n",
    "    score = row[1:]  # Get the score from the other columns\n",
    "    \n",
    "    # Get the indices of the scores that are above the threshold\n",
    "    indices = np.where(score < threshold_shapenet)[0].tolist()\n",
    "\n",
    "    symm_gt[filename] = candidate_planes[indices].tolist()\n",
    "\n",
    "threshold_obja_lvis = 0.06\n",
    "for index, row in df_obja_lvis.iterrows():\n",
    "    filename = row[0]  # Get the filename from the 0th column\n",
    "    score = row[1:]  # Get the score from the other columns\n",
    "    \n",
    "    # Get the indices of the scores that are above the threshold\n",
    "    indices = np.where(score < threshold_obja_lvis)[0].tolist()\n",
    "\n",
    "    symm_gt[filename] = candidate_planes[indices].tolist()"
   ]
  },
  {
   "cell_type": "code",
   "execution_count": 3,
   "metadata": {},
   "outputs": [
    {
     "data": {
      "text/plain": [
       "['soupspoon/soupspoon_7a331446a653436088bc3b558501583a.npy',\n",
       " 'soupspoon/soupspoon_f162cee189bc450cb0bf9df9984ea45b.npy',\n",
       " 'soupspoon/soupspoon_e30be87935f94abea012be597f6c67a3.npy',\n",
       " 'soupspoon/soupspoon_7344e85b512c46d187d76bfa20f394a6.npy',\n",
       " 'soupspoon/soupspoon_9043f465b9e34da5bb87fb45373cb5dd.npy',\n",
       " 'soupspoon/soupspoon_14d76cc31f824dce97295111161d4007.npy',\n",
       " 'soupspoon/soupspoon_e3d89b92dbe14b788beed9e08f879940.npy',\n",
       " 'soupspoon/soupspoon_75f279bbfc6e4d9aad23a0518d2d94b6.npy',\n",
       " 'soupspoon/soupspoon_96ad3cd8ede34667ba5b4819cc4335f8.npy',\n",
       " 'soupspoon/soupspoon_e55af322cf8f43fa9b4fb2b368bafd0f.npy']"
      ]
     },
     "execution_count": 3,
     "metadata": {},
     "output_type": "execute_result"
    }
   ],
   "source": [
    "list(symm_gt.keys())[-10:]"
   ]
  },
  {
   "cell_type": "code",
   "execution_count": 4,
   "metadata": {},
   "outputs": [],
   "source": [
    "json.dump(symm_gt, open(\"symm/symm_gt.json\", \"w\"))"
   ]
  },
  {
   "cell_type": "code",
   "execution_count": 5,
   "metadata": {},
   "outputs": [],
   "source": [
    "# import random\n",
    "# def gen_command(k, v, threshold=0.015):\n",
    "#     mpath = k\n",
    "#     planes = v.tolist()\n",
    "#     command = f\"python debug_vis_obja_pc.py {mpath} {str(planes).replace(' ', '')}\"\n",
    "#     # print(command)\n",
    "#     return command\n",
    "\n",
    "# commands = []\n",
    "# symm_gt_partial = dict(random.sample(sorted(symm_gt.items()), 20))\n",
    "\n",
    "# for k, v in symm_gt_partial.items():\n",
    "#     commands.append(gen_command(k, v, threshold=threshold_obja_lvis))\n",
    "\n",
    "# with open(\"commands.sh\", \"w\") as f:\n",
    "#     for command in commands:\n",
    "#         f.write(command + \"\\n\")"
   ]
  }
 ],
 "metadata": {
  "kernelspec": {
   "display_name": "zsnew",
   "language": "python",
   "name": "python3"
  },
  "language_info": {
   "codemirror_mode": {
    "name": "ipython",
    "version": 3
   },
   "file_extension": ".py",
   "mimetype": "text/x-python",
   "name": "python",
   "nbconvert_exporter": "python",
   "pygments_lexer": "ipython3",
   "version": "3.12.2"
  }
 },
 "nbformat": 4,
 "nbformat_minor": 2
}
